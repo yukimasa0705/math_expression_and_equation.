{
  "nbformat": 4,
  "nbformat_minor": 0,
  "metadata": {
    "colab": {
      "provenance": [],
      "authorship_tag": "ABX9TyMzhbtw3hoEuDQ+b+k+jAIx",
      "include_colab_link": true
    },
    "kernelspec": {
      "name": "python3",
      "display_name": "Python 3"
    },
    "language_info": {
      "name": "python"
    }
  },
  "cells": [
    {
      "cell_type": "markdown",
      "metadata": {
        "id": "view-in-github",
        "colab_type": "text"
      },
      "source": [
        "<a href=\"https://colab.research.google.com/github/yukimasa0705/math_expression_and_equation./blob/main/expression_and_equation.ipynb\" target=\"_parent\"><img src=\"https://colab.research.google.com/assets/colab-badge.svg\" alt=\"Open In Colab\"/></a>"
      ]
    },
    {
      "cell_type": "markdown",
      "source": [
        "## 式と計算の基本公式まとめ\n",
        "\n",
        "代数の計算を進めるうえで、以下の公式は特に重要です。\n",
        "\n",
        "---\n",
        "\n",
        "### 🟦 展開公式（公式の展開）\n",
        "\n",
        "- 和の平方：  \n",
        "  $$ (a + b)^2 = a^2 + 2ab + b^2 $$\n",
        "\n",
        "- 差の平方：  \n",
        "  $$ (a - b)^2 = a^2 - 2ab + b^2 $$\n",
        "\n",
        "- 和と差の積：  \n",
        "  $$ (a + b)(a - b) = a^2 - b^2 $$\n",
        "\n",
        "- 和の立方：  \n",
        "  $$ (a + b)^3 = a^3 + 3a^2b + 3ab^2 + b^3 $$\n",
        "\n",
        "- 差の立方：  \n",
        "  $$ (a - b)^3 = a^3 - 3a^2b + 3ab^2 - b^3 $$\n",
        "\n",
        "---\n",
        "\n",
        "### 🟩 因数分解公式（逆の操作）\n",
        "\n",
        "- 完全平方の因数分解：  \n",
        "  $$ a^2 + 2ab + b^2 = (a + b)^2 $$  \n",
        "  $$ a^2 - 2ab + b^2 = (a - b)^2 $$\n",
        "\n",
        "- 和と差の積の因数分解：  \n",
        "  $$ a^2 - b^2 = (a + b)(a - b) $$\n",
        "\n",
        "- 立方和・立方差の因数分解：  \n",
        "  $$ a^3 + b^3 = (a + b)(a^2 - ab + b^2) $$  \n",
        "  $$ a^3 - b^3 = (a - b)(a^2 + ab + b^2) $$\n",
        "\n",
        "---\n",
        "\n",
        "### ✏️ ポイントメモ\n",
        "\n",
        "- 展開 = 広げる  \n",
        "- 因数分解 = まとめる  \n",
        "- 式の形が見えてくると、変形が楽しくなるで！\n"
      ],
      "metadata": {
        "id": "gRNYDMCEqMHD"
      }
    },
    {
      "cell_type": "markdown",
      "source": [
        "## 式と計算の発展公式まとめ\n",
        "\n",
        "展開や因数分解には、立方や共通因数、特殊な形もあるで！しっかり押さえとこな。\n",
        "\n",
        "---\n",
        "\n",
        "### 🟨 共通因数でくくる（基本中の基本）\n",
        "\n",
        "- 例：  \n",
        "  $$ 2x^2 + 4x = 2x(x + 2) $$\n",
        "\n",
        "- ポイント：  \n",
        "  すべての項に共通する文字や数を見つけて「くくり出す」\n",
        "\n",
        "---\n",
        "\n",
        "### 🟧 因数分解の応用パターン\n",
        "\n",
        "#### ① たすきがけ（2次式の因数分解）\n",
        "\n",
        "- 例：  \n",
        "  $$ x^2 + 5x + 6 = (x + 2)(x + 3) $$  \n",
        "  $$ x^2 + x - 6 = (x + 3)(x - 2) $$\n",
        "\n",
        "#### ② 3項以上の分解（グループ分け）\n",
        "\n",
        "- 例：  \n",
        "  $$ ax + ay + bx + by = a(x + y) + b(x + y) = (a + b)(x + y) $$\n",
        "\n",
        "---\n",
        "\n",
        "### ✏️ ポイントメモ\n",
        "\n",
        "- 展開公式は形を覚えるだけやなく「意味」も理解しよう。\n",
        "- 因数分解は“共通のカタチ”に気づけるかが勝負。\n",
        "- 最終目標は「計算のスピード」やのうて「式を見てどう変形するかを判断できる力」やで！\n"
      ],
      "metadata": {
        "id": "77CBrMaKq3bl"
      }
    },
    {
      "cell_type": "markdown",
      "source": [
        "## 🔍 式と計算の例題：SymPyで確認しよう！\n",
        "\n",
        "Pythonの `sympy` ライブラリを使えば、公式の確認や式変形を**自動で検算**できるで。  \n",
        "ここでは、展開・因数分解の代表的なパターンを例題としてやってみよか！\n",
        "\n",
        "---\n",
        "\n",
        "### 🟦 例題①：展開\n",
        "\n",
        "#### 問題：\n",
        "$$(x + 3)^2 を展開せよ。$$\n",
        "\n",
        "#### 使う関数：\n",
        "```python\n",
        "from sympy import expand, symbols\n",
        "\n",
        "x = symbols('x')\n",
        "expand((x + 3)**2)\n"
      ],
      "metadata": {
        "id": "FHh8---WrpNJ"
      }
    },
    {
      "cell_type": "markdown",
      "source": [
        "### ❓ なぜこの関数か？\n",
        "\n",
        "- `expand()` は **乗法を展開する関数** や。\n",
        "\n",
        "- たとえば：\n",
        "\n",
        "  $$\n",
        "  (x + 3)^2 = (x + 3)(x + 3)\n",
        "  $$\n",
        "\n",
        "  これを掛け算で展開すると：\n",
        "\n",
        "  $$\n",
        "  x^2 + 6x + 9\n",
        "  $$\n",
        "\n",
        "  になる。  \n",
        "  手計算ではミスしがちなところを、`sympy` がしっかりサポートしてくれるで！\n"
      ],
      "metadata": {
        "id": "5KGELCZmryCg"
      }
    },
    {
      "cell_type": "markdown",
      "source": [
        "---\n",
        "\n",
        "## 📝 演習①：自分で展開してみよう！\n",
        "\n",
        "次の式を `expand()` を使って展開してみてや！\n",
        "\n",
        "$$\n",
        "(x - 5)^2\n",
        "$$\n",
        "\n",
        "---\n",
        "\n",
        "👇この下にコードを書いて実行してみよう！\n"
      ],
      "metadata": {
        "id": "AT_SkVaGtE2j"
      }
    },
    {
      "cell_type": "code",
      "source": [
        "from sympy import expand, symbols\n",
        "\n",
        "x = symbols('x')\n",
        "expand((x - 5)**2)"
      ],
      "metadata": {
        "colab": {
          "base_uri": "https://localhost:8080/",
          "height": 38
        },
        "id": "pTwWgw8OtKUb",
        "outputId": "12fd7718-6dcb-40e4-9a9e-12748c5968a4"
      },
      "execution_count": 2,
      "outputs": [
        {
          "output_type": "execute_result",
          "data": {
            "text/plain": [
              " 2            \n",
              "x  - 10⋅x + 25"
            ],
            "text/latex": "$\\displaystyle x^{2} - 10 x + 25$"
          },
          "metadata": {},
          "execution_count": 2
        }
      ]
    },
    {
      "cell_type": "markdown",
      "source": [
        "## 🟩 例題①：平方完成による因数分解\n",
        "\n",
        "### ✅ 問題\n",
        "次の式を因数分解せよ。\n",
        "\n",
        "$$\n",
        "x^2 + 6x + 9\n",
        "$$\n",
        "\n",
        "---\n",
        "\n",
        "### 🔧 解法（Pythonコード）\n",
        "\n",
        "因数分解には `factor()` 関数を使うよ。\n",
        "\n",
        "```python\n",
        "from sympy import factor, symbols\n",
        "\n",
        "x = symbols('x')\n",
        "factor(x**2 + 6*x + 9)\n"
      ],
      "metadata": {
        "id": "jqO0-9JStoG2"
      }
    },
    {
      "cell_type": "markdown",
      "source": [
        "### ❓ なぜこの関数か？\n",
        "\n",
        "- `factor()` は **因数分解を行う関数** や。\n",
        "\n",
        "- たとえば：\n",
        "\n",
        "  $$\n",
        "  x^2 + 6x + 9\n",
        "  $$\n",
        "\n",
        "  これは平方完成で：\n",
        "\n",
        "  $$\n",
        "  (x + 3)^2\n",
        "  $$\n",
        "\n",
        "  に因数分解できるんや。  \n",
        "  `sympy` が自動で因数分解してくれるから、手計算でミスる心配もなくなるで！\n"
      ],
      "metadata": {
        "id": "lzoDw1DXtzMS"
      }
    },
    {
      "cell_type": "markdown",
      "source": [
        "---\n",
        "\n",
        "## 📝 演習①：因数分解に挑戦！\n",
        "\n",
        "次の式を因数分解してみよう！\n",
        "\n",
        "$$\n",
        "x^2 - 10x + 25\n",
        "$$\n",
        "\n",
        "---\n",
        "\n",
        "👇この下にコードを書いて実行してみよう！\n"
      ],
      "metadata": {
        "id": "M2ogFTcdt-tK"
      }
    },
    {
      "cell_type": "code",
      "source": [
        "from sympy import factor, symbols\n",
        "\n",
        "x = symbols('x')\n",
        "factor(x**2 -10*x + 25)"
      ],
      "metadata": {
        "colab": {
          "base_uri": "https://localhost:8080/",
          "height": 39
        },
        "id": "9B426trxuCLi",
        "outputId": "80f94018-aa0a-4616-c652-5e08d2127e68"
      },
      "execution_count": 3,
      "outputs": [
        {
          "output_type": "execute_result",
          "data": {
            "text/plain": [
              "       2\n",
              "(x - 5) "
            ],
            "text/latex": "$\\displaystyle \\left(x - 5\\right)^{2}$"
          },
          "metadata": {},
          "execution_count": 3
        }
      ]
    },
    {
      "cell_type": "markdown",
      "source": [],
      "metadata": {
        "id": "lzUw58KCua3e"
      }
    },
    {
      "cell_type": "markdown",
      "source": [
        "## 🟩 例題③：二項の積で因数分解\n",
        "\n",
        "### ✅ 問題\n",
        "次の式を因数分解せよ。\n",
        "\n",
        "$$\n",
        "x^2 - 5x - 14\n",
        "$$\n",
        "\n",
        "---\n",
        "\n",
        "### 🔧 解法（Pythonコード）\n",
        "\n",
        "`factor()` を使って因数分解する方法やけど、ここはマイナスの項が含まれてるから少し工夫がいるかも。\n",
        "\n",
        "```python\n",
        "from sympy import factor, symbols\n",
        "\n",
        "x = symbols('x')\n",
        "factor(x**2 - 5*x - 14)\n"
      ],
      "metadata": {
        "id": "G5FG7MM8uZTR"
      }
    },
    {
      "cell_type": "markdown",
      "source": [
        "### ❓ なぜこの関数か？\n",
        "\n",
        "- `factor()` は **因数分解を行う関数** や。\n",
        "\n",
        "- たとえば：\n",
        "\n",
        "  $$\n",
        "  x^2 - 5x - 14\n",
        "  $$\n",
        "\n",
        "  これは因数分解して：\n",
        "\n",
        "  $$\n",
        "  (x - 7)(x + 2)\n",
        "  $$\n",
        "\n",
        "  にできるんや。  \n",
        "  `sympy` が自動で計算してくれるので、素早く解けるし、手計算でのミスを減らせるで！\n"
      ],
      "metadata": {
        "id": "PSf6T8c1uoL6"
      }
    },
    {
      "cell_type": "markdown",
      "source": [
        "---\n",
        "\n",
        "## 📝 演習②：複雑な因数分解\n",
        "\n",
        "次の式を因数分解してみよう！\n",
        "\n",
        "$$\n",
        "x^2 + 8x + 15\n",
        "$$\n",
        "\n",
        "---\n",
        "\n",
        "👇この下にコードを書いて実行してみよう！\n",
        "\n"
      ],
      "metadata": {
        "id": "1ZRoqQTmu2BZ"
      }
    },
    {
      "cell_type": "code",
      "source": [
        "from sympy import factor, symbols\n",
        "\n",
        "x = symbols('x')\n",
        "factor(x**2 + 8*x + 15)"
      ],
      "metadata": {
        "colab": {
          "base_uri": "https://localhost:8080/",
          "height": 38
        },
        "id": "IFTbywVOu_01",
        "outputId": "d4bfc7cf-5fc3-42c5-a649-2f5ba2a62017"
      },
      "execution_count": 4,
      "outputs": [
        {
          "output_type": "execute_result",
          "data": {
            "text/plain": [
              "(x + 3)⋅(x + 5)"
            ],
            "text/latex": "$\\displaystyle \\left(x + 3\\right) \\left(x + 5\\right)$"
          },
          "metadata": {},
          "execution_count": 4
        }
      ]
    },
    {
      "cell_type": "markdown",
      "source": [
        "## 🟩 例題④：二項の積と別の因数分解\n",
        "\n",
        "### ✅ 問題\n",
        "次の式を因数分解せよ。\n",
        "\n",
        "$$\n",
        "x^2 - 16\n",
        "$$\n",
        "\n",
        "---\n",
        "\n",
        "### 🔧 解法（Pythonコード）\n",
        "\n",
        "この場合、`x^2 - 16` は平方数の差やから、特別な因数分解のパターンを使うんや。  \n",
        "`factor()` で確認してみよう。\n",
        "\n",
        "```python\n",
        "from sympy import factor, symbols\n",
        "\n",
        "x = symbols('x')\n",
        "factor(x**2 - 16)\n"
      ],
      "metadata": {
        "id": "Tz-eoWwSvh1U"
      }
    },
    {
      "cell_type": "markdown",
      "source": [
        "❓ なぜこの関数か？  \n",
        "`factor()` は 因数分解を行う関数 や。\n",
        "\n",
        "たとえば：\n",
        "\n",
        "$$\n",
        "x^2 - 16\n",
        "$$\n",
        "\n",
        "これは **平方数の差** やから、因数分解して：\n",
        "\n",
        "$$\n",
        "(x - 4)(x + 4)\n",
        "$$\n",
        "\n",
        "にできるんや。  \n",
        "`sympy` はこういった数学的なパターンにも対応しているから、素早く解けるし、手計算でミスる心配もなくなるで！\n"
      ],
      "metadata": {
        "id": "7_rSzxmbvrai"
      }
    },
    {
      "cell_type": "markdown",
      "source": [
        "## 🟩 演習問題④：平方数の差の因数分解\n",
        "\n",
        "### ✅ 問題\n",
        "次の式を因数分解せよ。\n",
        "\n",
        "$$\n",
        "x^2 - 64\n",
        "$$\n"
      ],
      "metadata": {
        "id": "gBRyFLjQwKZg"
      }
    },
    {
      "cell_type": "code",
      "source": [
        "from sympy import factor, symbols\n",
        "\n",
        "x = symbols('x')\n",
        "factor(x**2 - 64)"
      ],
      "metadata": {
        "colab": {
          "base_uri": "https://localhost:8080/",
          "height": 38
        },
        "id": "y1_Ql77bwMHY",
        "outputId": "22598a8a-778a-4ba8-d7b1-942fc7c3a9b0"
      },
      "execution_count": 5,
      "outputs": [
        {
          "output_type": "execute_result",
          "data": {
            "text/plain": [
              "(x - 8)⋅(x + 8)"
            ],
            "text/latex": "$\\displaystyle \\left(x - 8\\right) \\left(x + 8\\right)$"
          },
          "metadata": {},
          "execution_count": 5
        }
      ]
    },
    {
      "cell_type": "markdown",
      "source": [],
      "metadata": {
        "id": "N61ARysbwwoP"
      }
    },
    {
      "cell_type": "markdown",
      "source": [
        "## 🟩 例題⑤：たすき掛けの因数分解（係数付き）\n",
        "\n",
        "### ✅ 問題\n",
        "次の式を因数分解せよ。\n",
        "\n",
        "$$\n",
        "2x^2 + 9x + 10\n",
        "$$\n",
        "\n",
        "### 📝 解き方\n",
        "この式を因数分解するには、たすき掛け法を使うよ。たすき掛けは次のステップで行う：\n",
        "1. 定数項の10を係数2と掛け合わせて、20になるペアを探す。\n",
        "2. 見つかったペアを使って因数分解する。\n",
        "\n",
        "そのため、20になるペアは5と4。これを使って因数分解すると、次のようになる：\n",
        "$$\n",
        "2x^2 + 9x + 10 = (2x + 5)(x + 2)\n",
        "$$\n",
        "\n",
        "### 🔧 Pythonコード\n",
        "```python\n",
        "from sympy import factor, symbols\n",
        "\n",
        "x = symbols('x')\n",
        "factor(2*x**2 + 9*x + 10)\n"
      ],
      "metadata": {
        "id": "wkec2JEgwvjD"
      }
    },
    {
      "cell_type": "markdown",
      "source": [
        "### 次の式を因数分解してみよう！\n",
        "1. $$ 3x^2 + 14x + 8 $$\n",
        "2. $$ 4x^2 + 12x + 9 $$\n"
      ],
      "metadata": {
        "id": "Msq1sXTExDTv"
      }
    },
    {
      "cell_type": "code",
      "source": [
        "from sympy import factor, symbols\n",
        "\n",
        "x = symbols('x')\n",
        "factor(3*x**2 + 14*x + 8)"
      ],
      "metadata": {
        "colab": {
          "base_uri": "https://localhost:8080/",
          "height": 38
        },
        "id": "Xe-sfRPGxlT_",
        "outputId": "09ac30d6-4331-4bf5-d7f1-466375fbff0c"
      },
      "execution_count": 8,
      "outputs": [
        {
          "output_type": "execute_result",
          "data": {
            "text/plain": [
              "(x + 4)⋅(3⋅x + 2)"
            ],
            "text/latex": "$\\displaystyle \\left(x + 4\\right) \\left(3 x + 2\\right)$"
          },
          "metadata": {},
          "execution_count": 8
        }
      ]
    },
    {
      "cell_type": "code",
      "source": [
        "from sympy import factor, symbols\n",
        "\n",
        "x = symbols('x')\n",
        "factor(4*x**2 + 12*x + 9)"
      ],
      "metadata": {
        "colab": {
          "base_uri": "https://localhost:8080/",
          "height": 39
        },
        "id": "4oo1-c6OxLDb",
        "outputId": "dae2e44e-d1fb-4bc8-efc3-ee3628c81be5"
      },
      "execution_count": 7,
      "outputs": [
        {
          "output_type": "execute_result",
          "data": {
            "text/plain": [
              "         2\n",
              "(2⋅x + 3) "
            ],
            "text/latex": "$\\displaystyle \\left(2 x + 3\\right)^{2}$"
          },
          "metadata": {},
          "execution_count": 7
        }
      ]
    }
  ]
}