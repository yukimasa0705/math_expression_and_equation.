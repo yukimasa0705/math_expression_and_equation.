{
  "nbformat": 4,
  "nbformat_minor": 0,
  "metadata": {
    "colab": {
      "provenance": [],
      "authorship_tag": "ABX9TyOT6i9+8C7NBtS4RyE5rXCB",
      "include_colab_link": true
    },
    "kernelspec": {
      "name": "python3",
      "display_name": "Python 3"
    },
    "language_info": {
      "name": "python"
    }
  },
  "cells": [
    {
      "cell_type": "markdown",
      "metadata": {
        "id": "view-in-github",
        "colab_type": "text"
      },
      "source": [
        "<a href=\"https://colab.research.google.com/github/yukimasa0705/math_expression_and_equation./blob/main/solving_equations.ipynb\" target=\"_parent\"><img src=\"https://colab.research.google.com/assets/colab-badge.svg\" alt=\"Open In Colab\"/></a>"
      ]
    },
    {
      "cell_type": "markdown",
      "source": [
        "# 方程式の基本公式まとめ（LaTeX対応）\n",
        "\n",
        "## 1. 一次方程式（Linear Equation）\n",
        "\n",
        "形式：\n",
        "\n",
        "$ax + b = 0$\n",
        "\n",
        "解：\n",
        "\n",
        "$x = -\\dfrac{b}{a}$\n",
        "\n",
        "---\n",
        "\n",
        "## 2. 二次方程式（Quadratic Equation）\n",
        "\n",
        "形式：\n",
        "\n",
        "$ax^2 + bx + c = 0$\n",
        "\n",
        "解の公式：\n",
        "\n",
        "$x = \\dfrac{-b \\pm \\sqrt{b^2 - 4ac}}{2a}$\n",
        "\n",
        "- 判別式（discriminant）：$D = b^2 - 4ac$\n",
        "\n",
        "判別式の値による解の種類：\n",
        "- $D > 0$：異なる2つの実数解  \n",
        "- $D = 0$：重解（1つの実数解）  \n",
        "- $D < 0$：実数解なし（複素数解）\n",
        "\n",
        "---\n",
        "\n",
        "## 3. 連立方程式（Simultaneous Equations）\n",
        "\n",
        "例：\n",
        "\n",
        "$\\begin{cases}\n",
        "a_1x + b_1y = c_1 \\\\\\\\\n",
        "a_2x + b_2y = c_2\n",
        "\\end{cases}$\n",
        "\n",
        "解き方：\n",
        "- **代入法**：1つの式から変数を解いて、もう一方に代入  \n",
        "- **加減法**：式を足し引きして1つの変数を消す  \n",
        "- **行列法**：逆行列を使って解く（応用向け）\n",
        "\n",
        "---\n",
        "\n",
        "## 4. 分数方程式（Rational Equation）\n",
        "\n",
        "例：\n",
        "\n",
        "$\\dfrac{1}{x} + 2 = 3$\n",
        "\n",
        "解き方：\n",
        "- 両辺に $x$ を掛けて分母を消去してから解く\n"
      ],
      "metadata": {
        "id": "pduea_l80pMA"
      }
    },
    {
      "cell_type": "markdown",
      "source": [
        "### 📘 例題１：$x^2 - 5x + 6 = 0$ を解こう！\n",
        "\n",
        "---\n",
        "\n",
        "#### ❓ なぜこの関数か？\n",
        "\n",
        "`solve()` は **方程式を解く関数**、  \n",
        "`factor()` は **式を因数分解する関数** や。\n",
        "\n",
        "手計算でよくやる「因数分解→解を出す」流れを、コードでそのまま再現できるから理解が深まるで！\n",
        "\n",
        "---\n",
        "\n",
        "#### ✍️ 解法の流れ\n",
        "\n",
        "この方程式は  \n",
        "$$\n",
        "x^2 - 5x + 6 = 0\n",
        "$$  \n",
        "やな。\n",
        "\n",
        "まず因数分解すると、  \n",
        "$$\n",
        "(x - 2)(x - 3) = 0\n",
        "$$\n",
        "\n",
        "よって解は、  \n",
        "$$\n",
        "x = 2,\\quad x = 3\n",
        "$$\n",
        "\n",
        "---\n",
        "\n",
        "#### 💻 SymPyで書くとこうや！\n",
        "\n",
        "```python\n",
        "from sympy import symbols, Eq, factor, solve\n",
        "\n",
        "x = symbols('x')\n",
        "expr = x**2 - 5*x + 6\n",
        "factored_expr = factor(expr)\n",
        "print(f\"因数分解の結果: {factored_expr}\")\n",
        "\n",
        "eq = Eq(expr, 0)\n",
        "sol = solve(eq, x)\n",
        "print(f\"解: {sol}\")\n"
      ],
      "metadata": {
        "id": "cDyu14yi3Jnl"
      }
    },
    {
      "cell_type": "markdown",
      "source": [
        "📘 演習問題１：$x^2 - 7x + 12 = 0$ を解こう！"
      ],
      "metadata": {
        "id": "jWpJUBgi4HeM"
      }
    },
    {
      "cell_type": "code",
      "source": [
        "from sympy import symbols, Eq, factor, solve\n",
        "\n",
        "x = symbols('x')\n",
        "expr = x**2 - 7*x + 12\n",
        "factored_expr = factor(expr)\n",
        "print(f\"因数分解の結果: {factored_expr}\")\n",
        "\n",
        "eq = Eq(expr, 0)\n",
        "sol = solve(eq, x)\n",
        "print(f\"解: {sol}\")"
      ],
      "metadata": {
        "colab": {
          "base_uri": "https://localhost:8080/"
        },
        "id": "AR8rRQMu4KL0",
        "outputId": "84625367-d194-475d-e6a6-60acadf10187"
      },
      "execution_count": null,
      "outputs": [
        {
          "output_type": "stream",
          "name": "stdout",
          "text": [
            "因数分解の結果: (x - 4)*(x - 3)\n",
            "解: [3, 4]\n"
          ]
        }
      ]
    },
    {
      "cell_type": "markdown",
      "source": [
        "📘 例題２：$2x^2 + 3x - 2 = 0$ を解こう！（解の公式を使ってみる）\n",
        "\n",
        "✍️ 解法の流れ（手計算風）\n",
        "これは因数分解やとちょっと難しいから、\n",
        "解の公式：\n",
        "\n",
        "$x = \\dfrac{-b \\pm \\sqrt{b^2 - 4ac}}{2a}$\n",
        "\n",
        "に当てはめて解こう！\n",
        "\n",
        "$a = 2$, $b = 3$, $c = -2$\n",
        "\n",
        "判別式：$b^2 - 4ac = 3^2 - 4×2×(-2) = 9 + 16 = 25$\n",
        "\n",
        "よって：\n",
        "\n",
        "𝑥\n",
        "=\n",
        "−\n",
        "3\n",
        "±\n",
        "25\n",
        "2\n",
        "×\n",
        "2\n",
        "=\n",
        "−\n",
        "3\n",
        "±\n",
        "5\n",
        "4\n",
        "x=\n",
        "2×2\n",
        "−3±\n",
        "25\n",
        "​\n",
        "\n",
        "​\n",
        " =\n",
        "4\n",
        "−3±5\n",
        "​\n",
        "\n",
        "解は：$x = \\frac{1}{2},\\ x = -2$\n",
        "\n",
        "💻 SymPyで書くとこうや！"
      ],
      "metadata": {
        "id": "UOw5wlcqTgju"
      }
    },
    {
      "cell_type": "markdown",
      "source": [
        "from sympy import symbols, solve, pprint\n",
        "\n",
        "  \n",
        "\n",
        "x = symbols('x')\n",
        "equation = 2*x**2 + 3*x - 2  \n",
        "solutions = solve(equation, x)\n",
        "\n",
        "pprint(solutions)\n"
      ],
      "metadata": {
        "id": "qoMl6daAUB8C"
      }
    },
    {
      "cell_type": "code",
      "source": [
        "from sympy import symbols, solve, pprint\n",
        "\n",
        "x = symbols('x')\n",
        "equation = 2*x**2 + 3*x - 2\n",
        "solutions = solve(equation, x)\n",
        "\n",
        "pprint(solutions)"
      ],
      "metadata": {
        "colab": {
          "base_uri": "https://localhost:8080/"
        },
        "id": "jHW3LiGDUF0d",
        "outputId": "cee378a2-39da-4b9e-bae7-609e85788016"
      },
      "execution_count": 7,
      "outputs": [
        {
          "output_type": "stream",
          "name": "stdout",
          "text": [
            "[-2, 1/2]\n"
          ]
        }
      ]
    },
    {
      "cell_type": "markdown",
      "source": [
        "\\begin{align*}\n",
        "\\text{📘 例題③：連立方程式を解こう！} \\\\\\\\\n",
        "\\left\\{\n",
        "\\begin{array}{l}\n",
        "2x + 3y = 12 \\\\\\\\\n",
        "x - y = 1\n",
        "\\end{array}\n",
        "\\right.\n",
        "\\end{align*}\n"
      ],
      "metadata": {
        "id": "mgwlan2DVv6U"
      }
    },
    {
      "cell_type": "markdown",
      "source": [
        "from sympy import symbols, Eq, solve\n",
        "\n",
        "# 変数定義\n",
        "x, y = symbols('x y')\n",
        "\n",
        "# 式を作成\n",
        "eq1 = Eq(2*x + 3*y, 12)\n",
        "eq2 = Eq(x - y, 1)\n",
        "\n",
        "# 解を求める\n",
        "solution = solve([eq1, eq2], [x, y])\n",
        "print(solution)\n"
      ],
      "metadata": {
        "id": "WLztbjGOV6aP"
      }
    },
    {
      "cell_type": "markdown",
      "source": [
        "\\begin{align*}\n",
        "\\text{🎯 演習問題：次の連立方程式を解け} \\\\\\\\\n",
        "\\left\\{\n",
        "\\begin{array}{l}\n",
        "3x + 2y = 16 \\\\\\\\\n",
        "4x - y = 9\n",
        "\\end{array}\n",
        "\\right.\n",
        "\\end{align*}\n"
      ],
      "metadata": {
        "id": "74D6pMekWR-P"
      }
    },
    {
      "cell_type": "code",
      "source": [
        "from sympy import symbols, Eq, solve\n",
        "\n",
        "# 変数定義\n",
        "x, y = symbols('x y')\n",
        "\n",
        "# 式を作成\n",
        "eq1 = Eq(3*x + 2*y, 16)\n",
        "eq2 = Eq(4*x - y, 9)\n",
        "\n",
        "# 解を求める\n",
        "solution = solve([eq1, eq2], [x, y])\n",
        "print(solution)\n"
      ],
      "metadata": {
        "colab": {
          "base_uri": "https://localhost:8080/"
        },
        "id": "ZQGzdjivWTlz",
        "outputId": "e9c82b03-cb34-435b-af83-7ca43732711c"
      },
      "execution_count": 9,
      "outputs": [
        {
          "output_type": "stream",
          "name": "stdout",
          "text": [
            "{x: 34/11, y: 37/11}\n"
          ]
        }
      ]
    },
    {
      "cell_type": "markdown",
      "source": [
        "📘 例題４：連立方程式を解こう！  \n",
        "\n",
        "$$\n",
        "\\frac{1}{2}x + \\frac{1}{3} = \\frac{5}{6}\n",
        "$$\n",
        "\n",
        "解法の流れ：\n",
        "この式は、両辺に最小公倍数（6）をかけて分母を消せば、一次方程式になるけど、\n",
        "SymPyでは Rational を使ってそのまま書けるで！  \n",
        "  \n",
        "from sympy import symbols, Eq, solve, Rational  \n",
        "\n",
        "x = symbols('x')  \n",
        "equation = Eq(Rational(1, 2)*x + Rational(1, 3), Rational(5, 6))  \n",
        "solution = solve(equation, x)\n",
        "solution\n"
      ],
      "metadata": {
        "id": "-gkQONDkX1jT"
      }
    },
    {
      "cell_type": "code",
      "source": [
        "from sympy import symbols, Eq, solve, Rational\n",
        "\n",
        "x = symbols('x')\n",
        "equation = Eq(Rational(1, 2)*x + Rational(1, 3), Rational(5, 6))\n",
        "solution = solve(equation, x)\n",
        "solution\n"
      ],
      "metadata": {
        "colab": {
          "base_uri": "https://localhost:8080/"
        },
        "id": "synoiueQY5t1",
        "outputId": "644396a3-bb01-488e-bc66-633b141d7d11"
      },
      "execution_count": 10,
      "outputs": [
        {
          "output_type": "execute_result",
          "data": {
            "text/plain": [
              "[1]"
            ]
          },
          "metadata": {},
          "execution_count": 10
        }
      ]
    },
    {
      "cell_type": "markdown",
      "source": [
        "$$\n",
        "\\frac{2}{3}x - \\frac{1}{4} = \\frac{5}{6}\n",
        "$$\n"
      ],
      "metadata": {
        "id": "L8qQ_WFuZRwA"
      }
    },
    {
      "cell_type": "code",
      "source": [
        "from sympy import symbols, Eq, solve, Rational\n",
        "\n",
        "x = symbols('x')\n",
        "equation = Eq(Rational(2, 3)*x + Rational(1, 4), Rational(5, 6))\n",
        "solution = solve(equation, x)\n",
        "solution\n"
      ],
      "metadata": {
        "colab": {
          "base_uri": "https://localhost:8080/"
        },
        "id": "pS7haAWIZUDk",
        "outputId": "ed4f3bf4-7892-4acb-d0d5-b1e685c52b87"
      },
      "execution_count": 11,
      "outputs": [
        {
          "output_type": "execute_result",
          "data": {
            "text/plain": [
              "[7/8]"
            ]
          },
          "metadata": {},
          "execution_count": 11
        }
      ]
    }
  ]
}