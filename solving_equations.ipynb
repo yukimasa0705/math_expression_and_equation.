{
  "nbformat": 4,
  "nbformat_minor": 0,
  "metadata": {
    "colab": {
      "provenance": [],
      "authorship_tag": "ABX9TyNpUlyoLpzy96YTfCDZJoUM",
      "include_colab_link": true
    },
    "kernelspec": {
      "name": "python3",
      "display_name": "Python 3"
    },
    "language_info": {
      "name": "python"
    }
  },
  "cells": [
    {
      "cell_type": "markdown",
      "metadata": {
        "id": "view-in-github",
        "colab_type": "text"
      },
      "source": [
        "<a href=\"https://colab.research.google.com/github/yukimasa0705/math_expression_and_equation./blob/main/solving_equations.ipynb\" target=\"_parent\"><img src=\"https://colab.research.google.com/assets/colab-badge.svg\" alt=\"Open In Colab\"/></a>"
      ]
    },
    {
      "cell_type": "markdown",
      "source": [
        "# 方程式の基本公式まとめ（LaTeX対応）\n",
        "\n",
        "## 1. 一次方程式（Linear Equation）\n",
        "\n",
        "形式：\n",
        "\n",
        "$ax + b = 0$\n",
        "\n",
        "解：\n",
        "\n",
        "$x = -\\dfrac{b}{a}$\n",
        "\n",
        "---\n",
        "\n",
        "## 2. 二次方程式（Quadratic Equation）\n",
        "\n",
        "形式：\n",
        "\n",
        "$ax^2 + bx + c = 0$\n",
        "\n",
        "解の公式：\n",
        "\n",
        "$x = \\dfrac{-b \\pm \\sqrt{b^2 - 4ac}}{2a}$\n",
        "\n",
        "- 判別式（discriminant）：$D = b^2 - 4ac$\n",
        "\n",
        "判別式の値による解の種類：\n",
        "- $D > 0$：異なる2つの実数解  \n",
        "- $D = 0$：重解（1つの実数解）  \n",
        "- $D < 0$：実数解なし（複素数解）\n",
        "\n",
        "---\n",
        "\n",
        "## 3. 連立方程式（Simultaneous Equations）\n",
        "\n",
        "例：\n",
        "\n",
        "$\\begin{cases}\n",
        "a_1x + b_1y = c_1 \\\\\\\\\n",
        "a_2x + b_2y = c_2\n",
        "\\end{cases}$\n",
        "\n",
        "解き方：\n",
        "- **代入法**：1つの式から変数を解いて、もう一方に代入  \n",
        "- **加減法**：式を足し引きして1つの変数を消す  \n",
        "- **行列法**：逆行列を使って解く（応用向け）\n",
        "\n",
        "---\n",
        "\n",
        "## 4. 分数方程式（Rational Equation）\n",
        "\n",
        "例：\n",
        "\n",
        "$\\dfrac{1}{x} + 2 = 3$\n",
        "\n",
        "解き方：\n",
        "- 両辺に $x$ を掛けて分母を消去してから解く\n"
      ],
      "metadata": {
        "id": "pduea_l80pMA"
      }
    },
    {
      "cell_type": "markdown",
      "source": [
        "### 📘 例題１：$x^2 - 5x + 6 = 0$ を解こう！\n",
        "\n",
        "---\n",
        "\n",
        "#### ❓ なぜこの関数か？\n",
        "\n",
        "`solve()` は **方程式を解く関数**、  \n",
        "`factor()` は **式を因数分解する関数** や。\n",
        "\n",
        "手計算でよくやる「因数分解→解を出す」流れを、コードでそのまま再現できるから理解が深まるで！\n",
        "\n",
        "---\n",
        "\n",
        "#### ✍️ 解法の流れ\n",
        "\n",
        "この方程式は  \n",
        "$$\n",
        "x^2 - 5x + 6 = 0\n",
        "$$  \n",
        "やな。\n",
        "\n",
        "まず因数分解すると、  \n",
        "$$\n",
        "(x - 2)(x - 3) = 0\n",
        "$$\n",
        "\n",
        "よって解は、  \n",
        "$$\n",
        "x = 2,\\quad x = 3\n",
        "$$\n",
        "\n",
        "---\n",
        "\n",
        "#### 💻 SymPyで書くとこうや！\n",
        "\n",
        "```python\n",
        "from sympy import symbols, Eq, factor, solve\n",
        "\n",
        "x = symbols('x')\n",
        "expr = x**2 - 5*x + 6\n",
        "factored_expr = factor(expr)\n",
        "print(f\"因数分解の結果: {factored_expr}\")\n",
        "\n",
        "eq = Eq(expr, 0)\n",
        "sol = solve(eq, x)\n",
        "print(f\"解: {sol}\")\n"
      ],
      "metadata": {
        "id": "cDyu14yi3Jnl"
      }
    },
    {
      "cell_type": "markdown",
      "source": [
        "📘 演習問題１：$x^2 - 7x + 12 = 0$ を解こう！"
      ],
      "metadata": {
        "id": "jWpJUBgi4HeM"
      }
    },
    {
      "cell_type": "code",
      "source": [
        "from sympy import symbols, Eq, factor, solve\n",
        "\n",
        "x = symbols('x')\n",
        "expr = x**2 - 7*x + 12\n",
        "factored_expr = factor(expr)\n",
        "print(f\"因数分解の結果: {factored_expr}\")\n",
        "\n",
        "eq = Eq(expr, 0)\n",
        "sol = solve(eq, x)\n",
        "print(f\"解: {sol}\")"
      ],
      "metadata": {
        "colab": {
          "base_uri": "https://localhost:8080/"
        },
        "id": "AR8rRQMu4KL0",
        "outputId": "8924b6c0-72e6-432e-bc88-015543def897"
      },
      "execution_count": 3,
      "outputs": [
        {
          "output_type": "stream",
          "name": "stdout",
          "text": [
            "因数分解の結果: (x - 4)*(x - 3)\n",
            "解: [3, 4]\n"
          ]
        }
      ]
    }
  ]
}